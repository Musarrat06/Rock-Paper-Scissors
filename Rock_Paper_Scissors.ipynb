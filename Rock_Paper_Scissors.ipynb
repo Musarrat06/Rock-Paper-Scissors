{
  "nbformat": 4,
  "nbformat_minor": 0,
  "metadata": {
    "colab": {
      "provenance": []
    },
    "kernelspec": {
      "name": "python3",
      "display_name": "Python 3"
    },
    "language_info": {
      "name": "python"
    }
  },
  "cells": [
    {
      "cell_type": "code",
      "execution_count": null,
      "metadata": {
        "colab": {
          "base_uri": "https://localhost:8080/"
        },
        "id": "BpWthigVxlXp",
        "outputId": "51877b49-9ce7-4e7a-b4e6-ac8f8a6a86c9"
      },
      "outputs": [
        {
          "output_type": "stream",
          "name": "stdout",
          "text": [
            "Enter your name : Musarrat\n",
            "Good Luck! Musarrat\n",
            "Guess the word  :  Python\n",
            "__\n",
            "o __\n",
            "__\n",
            "__\n",
            "wrong answer.\n",
            "you have  11 turns left\n",
            "Guess the word  :  condition\n",
            "__\n",
            "o __\n",
            "__\n",
            "d wrong answer.\n",
            "you have  10 turns left\n",
            "Guess the word  :  board\n",
            "b o a r d Congracts....You won the game!\n"
          ]
        }
      ],
      "source": [
        "import random\n",
        "import time\n",
        "\n",
        "user_intro = input(\"Hey! What is your name? \")\n",
        "print(f\"Welcome {user_intro} let's play the game...\")\n",
        "time.sleep(0.5)\n",
        "\n",
        "while True:\n",
        "  user = input(\"Enter your choice : \")\n",
        "\n",
        "  words = (\"Rock\", \"Paper\", \"Scissors\")\n",
        "  computer = random.choice(words)\n",
        "\n",
        "  print(f\"Your choice is '{user}' and Computer's choice is '{computer}'\")\n",
        "  time.sleep(1)\n",
        "\n",
        "  if user == computer:\n",
        "    print(\"It's a Tie.\\n\")\n",
        "\n",
        "  elif user == \"Rock\" and computer == \"Paper\":\n",
        "    print(\"Computer wins!\\n\")\n",
        "\n",
        "  elif user == \"Paper\" and computer == \"Rock\":\n",
        "    print(\"You wins!\\n\")\n",
        "\n",
        "  elif user == \"Scissors\" and computer == \"Rock\":\n",
        "    print(\"computer wins!\\n\")\n",
        "\n",
        "  elif user == \"Rock\" and computer == \"Scissors\":\n",
        "    print(\"You wins!\\n\")\n",
        "\n",
        "  elif user == \"Paper\" and computer == \"Scissors\":\n",
        "    print(\"You wins!\\n\")\n",
        "\n",
        "  elif user == \"Scissors\" and computer == \"Paper\":\n",
        "    print(\"Computer wins!\\n\")\n",
        "\n",
        "  else:\n",
        "    print(\"Please select correct word!\\n\")\n",
        "\n",
        "  play_again = input(\"Do you want to play again (y/n)? : \")\n",
        "  if play_again != \"y\":\n",
        "    print(\"Game Over!\")\n",
        "    break"
      ]
    }
  ]
}