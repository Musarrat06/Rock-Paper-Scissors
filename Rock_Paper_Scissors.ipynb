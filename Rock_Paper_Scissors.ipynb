{
  "nbformat": 4,
  "nbformat_minor": 0,
  "metadata": {
    "colab": {
      "provenance": []
    },
    "kernelspec": {
      "name": "python3",
      "display_name": "Python 3"
    },
    "language_info": {
      "name": "python"
    }
  },
  "cells": [
    {
      "cell_type": "code",
      "execution_count": 3,
      "metadata": {
        "colab": {
          "base_uri": "https://localhost:8080/"
        },
        "id": "BpWthigVxlXp",
        "outputId": "a59f10be-7e62-479e-8bb3-5a7a68426d16"
      },
      "outputs": [
        {
          "output_type": "stream",
          "name": "stdout",
          "text": [
            "Hey! What is your name? musarrat\n",
            "Welcome musarrat let's play the game...\n",
            "Enter your choice : Rock\n",
            "Your choice is 'Rock' and Computer's choice is 'Scissors'\n",
            "You wins!\n",
            "\n",
            "Do you want to play again (y/n)? : y\n",
            "Enter your choice : Scissors\n",
            "Your choice is 'Scissors' and Computer's choice is 'Rock'\n",
            "computer wins!\n",
            "\n",
            "Do you want to play again (y/n)? : n\n",
            "Game Over!\n"
          ]
        }
      ],
      "source": [
        "import random\n",
        "import time\n",
        "\n",
        "user_intro = input(\"Hey! What is your name? \")\n",
        "print(f\"Welcome {user_intro} let's play the game...\")\n",
        "time.sleep(0.5)\n",
        "\n",
        "while True:\n",
        "  user = input(\"Enter your choice : \")\n",
        "\n",
        "  words = (\"Rock\", \"Paper\", \"Scissors\")\n",
        "  computer = random.choice(words)\n",
        "\n",
        "  print(f\"Your choice is '{user}' and Computer's choice is '{computer}'\")\n",
        "  time.sleep(1)\n",
        "\n",
        "  if user == computer:\n",
        "    print(\"It's a Tie.\\n\")\n",
        "\n",
        "  elif user == \"Rock\" and computer == \"Paper\":\n",
        "    print(\"Computer wins!\\n\")\n",
        "\n",
        "  elif user == \"Paper\" and computer == \"Rock\":\n",
        "    print(\"You wins!\\n\")\n",
        "\n",
        "  elif user == \"Scissors\" and computer == \"Rock\":\n",
        "    print(\"computer wins!\\n\")\n",
        "\n",
        "  elif user == \"Rock\" and computer == \"Scissors\":\n",
        "    print(\"You wins!\\n\")\n",
        "\n",
        "  elif user == \"Paper\" and computer == \"Scissors\":\n",
        "    print(\"You wins!\\n\")\n",
        "\n",
        "  elif user == \"Scissors\" and computer == \"Paper\":\n",
        "    print(\"Computer wins!\\n\")\n",
        "\n",
        "  else:\n",
        "    print(\"Please select correct word!\\n\")\n",
        "\n",
        "  play_again = input(\"Do you want to play again (y/n)? : \")\n",
        "  if play_again != \"y\":\n",
        "    print(\"Game Over!\")\n",
        "    break"
      ]
    }
  ]
}